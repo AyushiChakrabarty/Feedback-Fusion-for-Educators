{
  "nbformat": 4,
  "nbformat_minor": 0,
  "metadata": {
    "colab": {
      "provenance": []
    },
    "kernelspec": {
      "name": "python3",
      "display_name": "Python 3"
    },
    "language_info": {
      "name": "python"
    }
  },
  "cells": [
    {
      "cell_type": "markdown",
      "source": [
        "## Logistic Regression, Random Forest, and SVM"
      ],
      "metadata": {
        "id": "Bs30xg8tMFc4"
      }
    },
    {
      "cell_type": "code",
      "source": [
        "import pandas as pd\n",
        "import numpy as np\n",
        "from sklearn.model_selection import train_test_split\n",
        "from sklearn.feature_extraction.text import TfidfVectorizer\n",
        "from sklearn.linear_model import LogisticRegression\n",
        "from sklearn.svm import SVC\n",
        "from sklearn.ensemble import RandomForestClassifier\n",
        "from sklearn.metrics import accuracy_score"
      ],
      "metadata": {
        "id": "IQdeDFJ-VfWp"
      },
      "execution_count": null,
      "outputs": []
    },
    {
      "cell_type": "code",
      "execution_count": null,
      "metadata": {
        "id": "Q_DGN5MjN1Zs",
        "colab": {
          "base_uri": "https://localhost:8080/"
        },
        "outputId": "59a10bf0-1cfb-49a5-af50-6be6f2d7d05f"
      },
      "outputs": [
        {
          "output_type": "stream",
          "name": "stdout",
          "text": [
            "Logistic Regression Accuracy: 0.7907\n",
            "SVM Accuracy: 0.7914\n",
            "Random Forest Accuracy: 0.7914\n",
            "Predicted Class: 0\n"
          ]
        }
      ],
      "source": [
        "# Load the dataset\n",
        "df = shuffled_df\n",
        "\n",
        "# Define the category mapping\n",
        "category_mapping = {'AC': 0, 'PC': 1, 'TC': 2, 'NC': 3}\n",
        "df['category_int'] = df['category'].map(category_mapping)\n",
        "\n",
        "# Split into train-test\n",
        "X_train, X_test, y_train, y_test = train_test_split(df['response'], df['category_int'], test_size=0.2, random_state=42)\n",
        "\n",
        "# Convert text to TF-IDF vectors\n",
        "vectorizer = TfidfVectorizer(max_features=5000, ngram_range=(1,2))\n",
        "X_train_tfidf = vectorizer.fit_transform(X_train)\n",
        "X_test_tfidf = vectorizer.transform(X_test)\n",
        "\n",
        "# Train classifiers\n",
        "models = {\n",
        "    \"Logistic Regression\": LogisticRegression(),\n",
        "    \"SVM\": SVC(probability=True),\n",
        "    \"Random Forest\": RandomForestClassifier(n_estimators=100)\n",
        "}\n",
        "\n",
        "for name, model in models.items():\n",
        "    model.fit(X_train_tfidf, y_train)\n",
        "    y_pred = model.predict(X_test_tfidf)\n",
        "    acc = accuracy_score(y_test, y_pred)\n",
        "    print(f\"{name} Accuracy: {acc:.4f}\")\n",
        "\n",
        "# Example prediction\n",
        "example_text = [\"I am nervous about the exams.\"]\n",
        "example_tfidf = vectorizer.transform(example_text)\n",
        "pred_class = models[\"Logistic Regression\"].predict(example_tfidf)\n",
        "print(f\"Predicted Class: {pred_class[0]}\")\n"
      ]
    }
  ]
}